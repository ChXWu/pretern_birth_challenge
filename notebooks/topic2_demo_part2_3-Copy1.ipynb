{
 "cells": [
  {
   "cell_type": "code",
   "execution_count": 1,
   "metadata": {},
   "outputs": [],
   "source": [
    "import matplotlib.pyplot as plt\n",
    "import numpy as np\n",
    "import pandas as pd\n",
    "\n",
    "# An advantage of importing like this is that you can use the function\n",
    "# . name instead of writing out the full path every time you use the function\n",
    "# eg: LogisticRegression()\n",
    "# .   vs\n",
    "# .   sklearn.linear_model.LogisticRegression()\n",
    "\n",
    "# Logistic regression model\n",
    "from sklearn.linear_model import LogisticRegression\n",
    "# A function to split data into a train and test set\n",
    "from sklearn.model_selection import train_test_split\n",
    "# function to calculcate the accuracy of your model\n",
    "from sklearn.metrics import accuracy_score\n",
    "# function for plotting the roc_curve and calculating the area under the curve\n",
    "from sklearn.metrics import roc_curve, auc\n",
    "# function for caluculating the confusion matrix\n",
    "from sklearn.metrics import confusion_matrix\n",
    "from sklearn.model_selection import cross_val_score"
   ]
  },
  {
   "cell_type": "code",
   "execution_count": 2,
   "metadata": {},
   "outputs": [],
   "source": [
    "\n",
    "# FROM SKLEARN DOCS: https://scikit-learn.org/stable/auto_examples/model_selection/plot_confusion_matrix.html#sphx-glr-auto-examples-model-selection-plot-confusion-matrix-py\n",
    "\n",
    "# THIS FUNCTION DOES NOT WORK WELL WITH ONLY 2 CLASSES\n",
    "\n",
    "# This plots a pretty confusion matrix\n",
    "# the confusions matrix function returns a 2d numpy array\n",
    "\n",
    "def plot_confusion_matrix(y_true, y_pred, classes,\n",
    "                          normalize=False,\n",
    "                          title=None,\n",
    "                          cmap=plt.cm.Blues):\n",
    "    \"\"\"\n",
    "    This function prints and plots the confusion matrix.\n",
    "    Normalization can be applied by setting `normalize=True`.\n",
    "    \"\"\"\n",
    "    if not title:\n",
    "        if normalize:\n",
    "            title = 'Normalized confusion matrix'\n",
    "        else:\n",
    "            title = 'Confusion matrix, without normalization'\n",
    "\n",
    "    # Compute confusion matrix\n",
    "    cm = confusion_matrix(y_true, y_pred)\n",
    "\n",
    "    if normalize:\n",
    "        cm = cm.astype('float') / cm.sum(axis=1)[:, np.newaxis]\n",
    "        print(\"Normalized confusion matrix\")\n",
    "    else:\n",
    "        print('Confusion matrix, without normalization')\n",
    "\n",
    "    print(cm)\n",
    "    print(cm.shape)\n",
    "\n",
    "    fig, ax = plt.subplots()\n",
    "    im = ax.imshow(cm, interpolation='nearest', cmap=cmap)\n",
    "    ax.figure.colorbar(im, ax=ax)\n",
    "    # We want to show all ticks...\n",
    "    ax.set(xticks=np.arange(cm.shape[1]),\n",
    "           yticks=np.arange(-0.5, cm.shape[0]),\n",
    "           # ... and label them with the respective list entries\n",
    "           xticklabels=classes, yticklabels=classes,\n",
    "           title=title,\n",
    "           ylabel='True label',\n",
    "           xlabel='Predicted label')\n",
    "\n",
    "    # Rotate the tick labels and set their alignment.\n",
    "    plt.setp(ax.get_xticklabels(), rotation=45, ha=\"right\",\n",
    "             rotation_mode=\"anchor\")\n",
    "\n",
    "    # Loop over data dimensions and create text annotations.\n",
    "    fmt = '.2f' if normalize else 'd'\n",
    "    thresh = cm.max() / 2.\n",
    "    for i in range(cm.shape[0]):\n",
    "        for j in range(cm.shape[1]):\n",
    "            ax.text(j, i, format(cm[i, j], fmt),\n",
    "                    ha=\"center\", va=\"center\",\n",
    "                    color=\"white\" if cm[i, j] > thresh else \"black\")\n",
    "    fig.tight_layout()\n",
    "    return ax\n"
   ]
  },
  {
   "cell_type": "markdown",
   "metadata": {},
   "source": [
    "# Load the Data"
   ]
  },
  {
   "cell_type": "code",
   "execution_count": 8,
   "metadata": {},
   "outputs": [],
   "source": [
    "# load the features dataframe which was created in notebook 2\n",
    "df = pd.read_csv('../data/features/ALL_AML_features_50.csv', index_col='Accession')\n",
    "# scikit learn needs each row to represent a sample\n",
    "# for this reason we need to transpose the dataframe\n",
    "df = df.transpose()\n",
    "# Add an extra column to the dataframe containing the sample types\n",
    "df['type_code'] = 1\n",
    "for i, row in df.iterrows():\n",
    "    if i[:3] == \"AML\":\n",
    "        df.at[i,'type_code'] = 0\n"
   ]
  },
  {
   "cell_type": "code",
   "execution_count": 9,
   "metadata": {},
   "outputs": [],
   "source": [
    "# load the features dataframe which was created in notebook 2\n",
    "tdf = pd.read_csv('../data/features/Leuk_ALL_AML_test_features_50.csv', index_col='Accession')\n",
    "# scikit learn needs each row to represent a sample\n",
    "# for this reason we need to transpose the dataframe\n",
    "tdf = tdf.transpose()\n",
    "# Add an extra column to the dataframe containing the sample types\n",
    "tdf['type_code'] = 1\n",
    "for i, row in tdf.iterrows():\n",
    "    if i[:3] == \"AML\":\n",
    "        tdf.at[i,'type_code'] = 0"
   ]
  },
  {
   "cell_type": "markdown",
   "metadata": {},
   "source": [
    "# Using logistic regression to train data"
   ]
  },
  {
   "cell_type": "code",
   "execution_count": 10,
   "metadata": {},
   "outputs": [
    {
     "name": "stdout",
     "output_type": "stream",
     "text": [
      "(38, 50)\n",
      "(35, 50)\n",
      "(38,)\n",
      "(35,)\n"
     ]
    }
   ],
   "source": [
    "# The features should only contain expression values, not the labels\n",
    "# This should be a 2d matrix\n",
    "X_train = df.drop(columns=['type_code']).values\n",
    "# The labels should not contain any expression values\n",
    "# This should be a 1d Array/Vector\n",
    "y_train = df['type_code'].values\n",
    "y_train.reshape(-1, 1)\n",
    "\n",
    "X_test = tdf.drop(columns=['type_code']).values\n",
    "y_test = tdf['type_code'].values\n",
    "print(X_train.shape)\n",
    "print(X_test.shape)\n",
    "print(y_train.shape)\n",
    "print(y_test.shape)"
   ]
  },
  {
   "cell_type": "code",
   "execution_count": 11,
   "metadata": {},
   "outputs": [
    {
     "data": {
      "text/plain": [
       "array([0.88888889, 1.        , 1.        , 1.        , 1.        ])"
      ]
     },
     "execution_count": 11,
     "metadata": {},
     "output_type": "execute_result"
    }
   ],
   "source": [
    "# create a new logistic regression model\n",
    "# There are many different solvers: \n",
    "# .  https://scikit-learn.org/stable/modules/generated/sklearn.linear_model.LogisticRegression.html\n",
    "#   They all have their strenghts/weaknesses\n",
    "lr = LogisticRegression(random_state=0, solver='lbfgs')\n",
    "# train the model using the training data\n",
    "clf = lr.fit(X_train, y_train)\n",
    "# now that the model has been trained, predict the classes in the test set\n",
    "pred = clf.predict(X_test)\n",
    "# predict outputs labels, decision_function outputs the confidence scores\n",
    "y_scores = clf.decision_function(X_test)\n",
    "# print the accuracy sum(predicted == actual) / len(labels)\n",
    "accuracy = accuracy_score(y_test, pred)\n",
    "\n",
    "# cross validation\n",
    "scores = cross_val_score(lr, X_train, y_train, cv=5)\n",
    "scores "
   ]
  },
  {
   "cell_type": "code",
   "execution_count": 12,
   "metadata": {},
   "outputs": [
    {
     "name": "stdout",
     "output_type": "stream",
     "text": [
      "Confusion matrix, without normalization\n",
      "[[13  1]\n",
      " [ 0 21]]\n",
      "(2, 2)\n"
     ]
    },
    {
     "data": {
      "image/png": "[encoded data removed]",
      "text/plain": [
       "<Figure size 432x288 with 2 Axes>"
      ]
     },
     "metadata": {
      "needs_background": "light"
     },
     "output_type": "display_data"
    }
   ],
   "source": [
    "_ = plot_confusion_matrix(y_test, pred, ['ALL', 'AML'])"
   ]
  },
  {
   "cell_type": "markdown",
   "metadata": {},
   "source": [
    "# Change number of features."
   ]
  },
  {
   "cell_type": "code",
   "execution_count": 15,
   "metadata": {},
   "outputs": [],
   "source": [
    "class ModelResult:\n",
    "    y_scores = ''\n",
    "    accuracy = ''\n",
    "    cv_scores = ''\n",
    "\n",
    "def predictive_modeling(file,file2):\n",
    "    model_result = ModelResult()\n",
    "    # load the features dataframe which was created in notebook 2\n",
    "    df = pd.read_csv(file, index_col='Accession')\n",
    "    # scikit learn needs each row to represent a sample\n",
    "    # for this reason we need to transpose the dataframe\n",
    "    df = df.transpose()\n",
    "    # Add an extra column to the dataframe containing the sample types\n",
    "    df['type_code'] = 1\n",
    "    for i, row in df.iterrows():\n",
    "        if i[:3] == \"AML\":\n",
    "            df.at[i,'type_code'] = 0\n",
    "    # load the features dataframe which was created in notebook 2\n",
    "    tdf = pd.read_csv(file2, index_col='Accession')\n",
    "    # scikit learn needs each row to represent a sample\n",
    "    # for this reason we need to transpose the dataframe\n",
    "    tdf = tdf.transpose()\n",
    "    # Add an extra column to the dataframe containing the sample types\n",
    "    tdf['type_code'] = 1\n",
    "    for i, row in tdf.iterrows():\n",
    "        if i[:3] == \"AML\":\n",
    "            tdf.at[i,'type_code'] = 0\n",
    "    # The features should only contain expression values, not the labels\n",
    "    # This should be a 2d matrix\n",
    "    # The features should only contain expression values, not the labels\n",
    "    # This should be a 2d matrix\n",
    "    X_train = df.drop(columns=['type_code']).values\n",
    "    # The labels should not contain any expression values\n",
    "    # This should be a 1d Array/Vector\n",
    "    y_train = df['type_code'].values\n",
    "    y_train.reshape(-1, 1)\n",
    "\n",
    "    X_test = tdf.drop(columns=['type_code']).values\n",
    "    y_test = tdf['type_code'].values\n",
    "    # create a new logistic regression model\n",
    "    # There are many different solvers: \n",
    "    # .  https://scikit-learn.org/stable/modules/generated/sklearn.linear_model.LogisticRegression.html\n",
    "    #   They all have their strenghts/weaknesses\n",
    "    lr = LogisticRegression(random_state=0, solver='lbfgs')\n",
    "    # train the model using the training data\n",
    "    clf = lr.fit(X_train, y_train)\n",
    "    # now that the model has been trained, predict the classes in the test set\n",
    "    pred = clf.predict(X_test)\n",
    "    # predict outputs labels, decision_function outputs the confidence scores\n",
    "    model_result.y_scores = clf.decision_function(X_test)\n",
    "    # print the accuracy sum(predicted == actual) / len(labels)\n",
    "    model_result.accuracy = accuracy_score(y_test, pred)\n",
    "\n",
    "    # cross validation 5 folds \n",
    "    model_result.cv_scores = cross_val_score(lr, X_train, y_train, cv = 5)\n",
    "    \n",
    "    # confusions matrix function\n",
    "    _ = plot_confusion_matrix(y_test, pred, ['ALL', 'AML'])\n",
    "    return model_result"
   ]
  },
  {
   "cell_type": "code",
   "execution_count": 23,
   "metadata": {},
   "outputs": [
    {
     "name": "stdout",
     "output_type": "stream",
     "text": [
      "Confusion matrix, without normalization\n",
      "[[ 8  6]\n",
      " [ 0 21]]\n",
      "(2, 2)\n",
      "\n",
      " accuracy: 0.8285714285714286\n",
      "\n",
      " cv_scores(5 folds): [1.         1.         0.85714286 0.85714286 1.        ]\n"
     ]
    },
    {
     "data": {
      "image/png": "[encoded data removed]",
      "text/plain": [
       "<Figure size 432x288 with 2 Axes>"
      ]
     },
     "metadata": {
      "needs_background": "light"
     },
     "output_type": "display_data"
    }
   ],
   "source": [
    "result_2 = predictive_modeling('../data/features/ALL_AML_features_2.csv','../data/features/Leuk_ALL_AML_test_features_2.csv')\n",
    "#print ('\\n y_scores: ' + str(result_2.y_scores))\n",
    "print ('\\n accuracy: ' + str(result_2.accuracy))\n",
    "print ('\\n cv_scores(5 folds): ' + str(result_2.cv_scores))"
   ]
  },
  {
   "cell_type": "code",
   "execution_count": 22,
   "metadata": {},
   "outputs": [
    {
     "name": "stdout",
     "output_type": "stream",
     "text": [
      "Confusion matrix, without normalization\n",
      "[[13  1]\n",
      " [ 0 21]]\n",
      "(2, 2)\n",
      "\n",
      " y_scores: [ 55.99803626  60.85394163   9.58424054  44.40769775  21.74871399\n",
      "  87.68438677  56.75947825  54.28396351  34.92324713  80.96588427\n",
      "  57.83078234  51.08627643  29.77745468  15.90883889  32.34818064\n",
      "  61.63061444  68.92379131   2.37700569  20.46616318  25.73886815\n",
      "  57.98389776  -1.94928579 -26.75855787 -20.07864927 -34.13976969\n",
      " -18.00899534  -7.879557   -22.17928113  -3.49587717 -15.02564326\n",
      " -17.71346974   7.16785796 -31.0800424  -32.83433179 -24.4115117 ]\n",
      "\n",
      " accuracy: 0.9714285714285714\n",
      "\n",
      " cv_scores(5 folds): [1. 1. 1. 1. 1.]\n"
     ]
    },
    {
     "data": {
      "image/png": "[encoded data removed]",
      "text/plain": [
       "<Figure size 432x288 with 2 Axes>"
      ]
     },
     "metadata": {
      "needs_background": "light"
     },
     "output_type": "display_data"
    }
   ],
   "source": [
    "result_2 = predictive_modeling('../data/features/ALL_AML_features_10.csv','../data/features/Leuk_ALL_AML_test_features_10.csv')\n",
    "print ('\\n y_scores: ' + str(result_2.y_scores))\n",
    "print ('\\n accuracy: ' + str(result_2.accuracy))\n",
    "print ('\\n cv_scores(5 folds): ' + str(result_2.cv_scores))\n"
   ]
  },
  {
   "cell_type": "code",
   "execution_count": 21,
   "metadata": {},
   "outputs": [
    {
     "name": "stdout",
     "output_type": "stream",
     "text": [
      "Confusion matrix, without normalization\n",
      "[[13  1]\n",
      " [ 0 21]]\n",
      "(2, 2)\n",
      "\n",
      " y_scores: [ 68.34093996  71.8124465    9.97263279  48.42991826  25.30401131\n",
      "  94.15108342  64.52041283  57.655547    35.23117128  92.05061665\n",
      "  61.4379926   54.68421479  35.0447249   20.29230746  36.82775522\n",
      "  72.25617026  73.56587703   2.87871014  23.8060961   31.27893164\n",
      "  56.69396495  -4.08222273 -31.89799652 -20.03936413 -29.41399094\n",
      " -13.06629676 -10.17433546 -16.12255869  -6.77657251  -8.77757439\n",
      " -14.88593993   6.409811   -23.85408209 -29.50634979 -15.83906448]\n",
      "\n",
      " accuracy: 0.9714285714285714\n",
      "\n",
      " cv_scores(5 folds): [1. 1. 1. 1. 1.]\n"
     ]
    },
    {
     "data": {
      "image/png": "[encoded data removed]",
      "text/plain": [
       "<Figure size 432x288 with 2 Axes>"
      ]
     },
     "metadata": {
      "needs_background": "light"
     },
     "output_type": "display_data"
    }
   ],
   "source": [
    "result_20 = predictive_modeling('../data/features/ALL_AML_features_20.csv','../data/features/Leuk_ALL_AML_test_features_20.csv')\n",
    "print ('\\n y_scores: ' + str(result_20.y_scores))\n",
    "print ('\\n accuracy: ' + str(result_20.accuracy))\n",
    "print ('\\n cv_scores(5 folds): ' + str(result_20.cv_scores))"
   ]
  },
  {
   "cell_type": "code",
   "execution_count": 20,
   "metadata": {},
   "outputs": [
    {
     "name": "stdout",
     "output_type": "stream",
     "text": [
      "Confusion matrix, without normalization\n",
      "[[13  1]\n",
      " [ 0 21]]\n",
      "(2, 2)\n",
      "\n",
      " y_scores: [ 33.0798411   40.66792137   6.91136587  18.72533229  14.14406642\n",
      "  52.57016926  36.95727798  28.76281053  14.54710315  44.13289515\n",
      "  38.93933402  31.00691272  24.85963203  20.57681754  25.54981352\n",
      "  36.7987323   41.16033089   5.25331316   8.58858223  24.10587815\n",
      "  24.4388486  -34.22974726 -36.57382613 -35.57966156 -34.31228653\n",
      " -43.8295278  -26.23660319 -22.14055193 -23.23571427  -4.95455466\n",
      " -13.48736753   2.04955939 -31.18627282 -55.58337558 -25.27330766]\n",
      "\n",
      " accuracy: 0.9714285714285714\n",
      "\n",
      " cv_scores(5 folds): [0.88888889 1.         1.         1.         1.        ]\n"
     ]
    },
    {
     "data": {
      "image/png": "[encoded data removed]",
      "text/plain": [
       "<Figure size 432x288 with 2 Axes>"
      ]
     },
     "metadata": {
      "needs_background": "light"
     },
     "output_type": "display_data"
    }
   ],
   "source": [
    "result_100 = predictive_modeling('../data/features/ALL_AML_features_100.csv','../data/features/Leuk_ALL_AML_test_features_100.csv')\n",
    "print ('\\n y_scores: ' + str(result_100.y_scores))\n",
    "print ('\\n accuracy: ' + str(result_100.accuracy))\n",
    "print ('\\n cv_scores(5 folds): ' + str(result_100.cv_scores))"
   ]
  },
  {
   "cell_type": "code",
   "execution_count": null,
   "metadata": {},
   "outputs": [],
   "source": []
  }
 ],
 "metadata": {
  "kernelspec": {
   "display_name": "Python 3",
   "language": "python",
   "name": "python3"
  },
  "language_info": {
   "codemirror_mode": {
    "name": "ipython",
    "version": 3
   },
   "file_extension": ".py",
   "mimetype": "text/x-python",
   "name": "python",
   "nbconvert_exporter": "python",
   "pygments_lexer": "ipython3",
   "version": "3.7.3"
  }
 },
 "nbformat": 4,
 "nbformat_minor": 2
}
