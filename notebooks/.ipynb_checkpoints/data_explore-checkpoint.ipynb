{
 "cells": [
  {
   "cell_type": "code",
   "execution_count": 45,
   "metadata": {},
   "outputs": [],
   "source": [
    "# gzip is a pacakge for opening/making gz files\n",
    "import gzip\n",
    "# import plt for plotting\n",
    "import matplotlib.pyplot as plt\n",
    "# import numpy for Array creation/manipulation\n",
    "import numpy as np\n",
    "# import os for working with local files\n",
    "import os\n",
    "# pandas is a package for creating / editing data frames\n",
    "import pandas as pd\n",
    "# seaborn is a statistical plotting package\n",
    "import seaborn as sns\n",
    "\n",
    "# generate plots in the jupyter notebook\n",
    "%matplotlib inline\n"
   ]
  },
  {
   "cell_type": "code",
   "execution_count": 46,
   "metadata": {},
   "outputs": [],
   "source": [
    "# Path to folder containing the raw data\n",
    "DATA_DIR = '../data/'\n",
    "# File name of the raw data\n",
    "DATA_FILENAME_1 = 'eset_HTA20.csv'\n",
    "DATA_FILENAME_2 = 'eset_HuGene21ST.csv'\n",
    "\n",
    "# Load the data into a dataframe\n",
    "df1 = pd.read_csv(\n",
    "    # This creates the full path to the file\n",
    "    '{}{}'.format(DATA_DIR, DATA_FILENAME_1)\n",
    "    # Ignore lines that start with '!'\n",
    "    , comment='\\t',\n",
    "    # the character used to separate values\n",
    "    sep=',',\n",
    "    \n",
    ")\n",
    "\n",
    "df2 = pd.read_csv(\n",
    "    # This creates the full path to the file\n",
    "    '{}{}'.format(DATA_DIR, DATA_FILENAME_2)\n",
    "    # Ignore lines that start with '!'\n",
    "    , comment='\\t',\n",
    "    # the character used to separate values\n",
    "    sep=',',\n",
    "    \n",
    ")"
   ]
  },
  {
   "cell_type": "code",
   "execution_count": 47,
   "metadata": {},
   "outputs": [],
   "source": [
    "# Path to folder containing the raw data\n",
    "DATA_DIR = '../data/'\n",
    "# File name of the raw data\n",
    "DATA_FILENAME = 'anoSC2_v20_filtered.csv'\n",
    "# Load the data into a dataframe\n",
    "df3 = pd.read_csv(\n",
    "    # This creates the full path to the file\n",
    "    '{}{}'.format(DATA_DIR, DATA_FILENAME)\n",
    "    # Ignore lines that start with '!'\n",
    "    , comment='\\t',\n",
    "    # the character used to separate values\n",
    "    sep=',',\n",
    "    \n",
    ")"
   ]
  },
  {
   "cell_type": "code",
   "execution_count": 101,
   "metadata": {},
   "outputs": [],
   "source": [
    "f = ['Unnamed: 0']\n",
    "for sample in list(df3['SampleID']):\n",
    "    if sample[:3] != \"GSM\":\n",
    "        f.append(sample)\n",
    "tarca_sample_df = df1[f]\n",
    "#tarca_sample_df.shape"
   ]
  },
  {
   "cell_type": "code",
   "execution_count": 102,
   "metadata": {},
   "outputs": [],
   "source": [
    "f = ['Unnamed: 0']\n",
    "for sample in list(df3['SampleID']):\n",
    "    if sample[:3] == \"GSM\":\n",
    "        f.append(sample)\n",
    "GSM_df = df2[f]\n",
    "#GSM_df.shape"
   ]
  },
  {
   "cell_type": "code",
   "execution_count": 103,
   "metadata": {},
   "outputs": [],
   "source": [
    "common_genes = set(list(tarca_sample_df['Unnamed: 0'])).intersection(list(GSM_df['Unnamed: 0'])) \n",
    "tarca_sample_df = tarca_sample_df.set_index('Unnamed: 0')\n",
    "GSM_df = GSM_df.set_index('Unnamed: 0')"
   ]
  },
  {
   "cell_type": "code",
   "execution_count": 104,
   "metadata": {},
   "outputs": [
    {
     "name": "stdout",
     "output_type": "stream",
     "text": [
      "(32830, 115)\n",
      "(29635, 320)\n"
     ]
    }
   ],
   "source": [
    "print(tarca_sample_df.shape)\n",
    "print(GSM_df.shape)"
   ]
  },
  {
   "cell_type": "code",
   "execution_count": 105,
   "metadata": {},
   "outputs": [
    {
     "data": {
      "text/plain": [
       "(29459, 115)"
      ]
     },
     "execution_count": 105,
     "metadata": {},
     "output_type": "execute_result"
    }
   ],
   "source": [
    "tarca_sample_df = tarca_sample_df.loc[common_genes]\n",
    "tarca_sample_df.shape"
   ]
  },
  {
   "cell_type": "code",
   "execution_count": 106,
   "metadata": {},
   "outputs": [
    {
     "data": {
      "text/plain": [
       "(29459, 320)"
      ]
     },
     "execution_count": 106,
     "metadata": {},
     "output_type": "execute_result"
    }
   ],
   "source": [
    "GSM_df = GSM_df.loc[common_genes]\n",
    "GSM_df.shape"
   ]
  },
  {
   "cell_type": "code",
   "execution_count": 115,
   "metadata": {},
   "outputs": [
    {
     "data": {
      "text/plain": [
       "(29459, 435)"
      ]
     },
     "execution_count": 115,
     "metadata": {},
     "output_type": "execute_result"
    }
   ],
   "source": [
    "combined_df = pd.concat([tarca_sample_df, GSM_df],sort = True,axis =1)\n",
    "combined_df.shape"
   ]
  }
 ],
 "metadata": {
  "kernelspec": {
   "display_name": "Python 3",
   "language": "python",
   "name": "python3"
  },
  "language_info": {
   "codemirror_mode": {
    "name": "ipython",
    "version": 3
   },
   "file_extension": ".py",
   "mimetype": "text/x-python",
   "name": "python",
   "nbconvert_exporter": "python",
   "pygments_lexer": "ipython3",
   "version": "3.7.3"
  }
 },
 "nbformat": 4,
 "nbformat_minor": 2
}
